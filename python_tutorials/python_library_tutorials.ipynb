{
 "cells": [
  {
   "cell_type": "markdown",
   "metadata": {},
   "source": [
    "# Libraries and Dependencies in Python for Data science\n",
    "### Table of Contents"
   ]
  },
  {
   "cell_type": "markdown",
   "metadata": {},
   "source": [
    "<div style=\"background-color: #cfc ; padding: 10px; border: 1px solid green;\">\n",
    "\n",
    "   <li>Pandas</li>\n",
    "   <li>Numpy</li>"
   ]
  },
  {
   "cell_type": "markdown",
   "metadata": {},
   "source": [
    "#### Pandas"
   ]
  },
  {
   "cell_type": "markdown",
   "metadata": {},
   "source": [
    "Pandas is a name derived from 'Panel Datas' from the field of econometrics. Pandas is a python library with set of pre-bulit or pre-defined methods (classes,functions) that can be used to analyze datas. Assuming that the pandas library is installed, we will start from seeing how to import the library into your code."
   ]
  },
  {
   "cell_type": "code",
   "execution_count": 3,
   "metadata": {},
   "outputs": [],
   "source": [
    "# pandas can be imported as follows\n",
    "import pandas as pd"
   ]
  },
  {
   "cell_type": "markdown",
   "metadata": {},
   "source": [
    "In the above bit we used a command import to import the pandas library. The second bit, 'as pd' states that the imported pandas library can be referred using the object pd in the rest of the program. It is interesting to see what is the type of the object pd."
   ]
  },
  {
   "cell_type": "code",
   "execution_count": 4,
   "metadata": {},
   "outputs": [
    {
     "data": {
      "text/plain": [
       "module"
      ]
     },
     "execution_count": 4,
     "metadata": {},
     "output_type": "execute_result"
    }
   ],
   "source": [
    "type(pd)"
   ]
  },
  {
   "cell_type": "markdown",
   "metadata": {},
   "source": [
    "##### Guess you know it now. So that says pandas is an in-built python module."
   ]
  },
  {
   "cell_type": "markdown",
   "metadata": {},
   "source": [
    "It is usefult to know all the pre built functions and classes that are present within the pandas module. However, we will look at some important functions only."
   ]
  },
  {
   "cell_type": "markdown",
   "metadata": {},
   "source": [
    "#### Most importantly, pandas allows users to work with large data piles like Excel or csv data. Within pandas they are called dataframes.\n",
    "Let's see how we can load a data file as a data frame in pandas."
   ]
  },
  {
   "cell_type": "code",
   "execution_count": 33,
   "metadata": {},
   "outputs": [
    {
     "data": {
      "text/html": [
       "<div>\n",
       "<style scoped>\n",
       "    .dataframe tbody tr th:only-of-type {\n",
       "        vertical-align: middle;\n",
       "    }\n",
       "\n",
       "    .dataframe tbody tr th {\n",
       "        vertical-align: top;\n",
       "    }\n",
       "\n",
       "    .dataframe thead th {\n",
       "        text-align: right;\n",
       "    }\n",
       "</style>\n",
       "<table border=\"1\" class=\"dataframe\">\n",
       "  <thead>\n",
       "    <tr style=\"text-align: right;\">\n",
       "      <th></th>\n",
       "      <th>Annual income</th>\n",
       "      <th>Number of families</th>\n",
       "    </tr>\n",
       "  </thead>\n",
       "  <tbody>\n",
       "    <tr>\n",
       "      <th>0</th>\n",
       "      <td>7500</td>\n",
       "      <td>1941</td>\n",
       "    </tr>\n",
       "    <tr>\n",
       "      <th>1</th>\n",
       "      <td>12500</td>\n",
       "      <td>1212</td>\n",
       "    </tr>\n",
       "    <tr>\n",
       "      <th>2</th>\n",
       "      <td>17500</td>\n",
       "      <td>1816</td>\n",
       "    </tr>\n",
       "    <tr>\n",
       "      <th>3</th>\n",
       "      <td>22500</td>\n",
       "      <td>2055</td>\n",
       "    </tr>\n",
       "    <tr>\n",
       "      <th>4</th>\n",
       "      <td>27500</td>\n",
       "      <td>2753</td>\n",
       "    </tr>\n",
       "  </tbody>\n",
       "</table>\n",
       "</div>"
      ],
      "text/plain": [
       "   Annual income  Number of families\n",
       "0           7500                1941\n",
       "1          12500                1212\n",
       "2          17500                1816\n",
       "3          22500                2055\n",
       "4          27500                2753"
      ]
     },
     "execution_count": 33,
     "metadata": {},
     "output_type": "execute_result"
    }
   ],
   "source": [
    "df = pd.read_excel('./data_files/income_data.xlsx')\n",
    "df.head()"
   ]
  },
  {
   "cell_type": "code",
   "execution_count": 34,
   "metadata": {},
   "outputs": [
    {
     "name": "stdout",
     "output_type": "stream",
     "text": [
      "         Income range Number of families\n",
      "0        Under $5,000               1941\n",
      "1   $5,000 to  $9,999               1212\n",
      "2  $10,000 to $14,999               1816\n"
     ]
    }
   ],
   "source": [
    "# you can make your own data frame by casting a dictionary to Dataframe as follows\n",
    "dictionary={'Income range':['Under $5,000', '$5,000 to  $9,999', '$10,000 to $14,999'],'Number of families':['1941','1212','1816']\n",
    "}\n",
    "incometable=pd.DataFrame(dictionary)\n",
    "print(incometable)"
   ]
  },
  {
   "cell_type": "code",
   "execution_count": 14,
   "metadata": {},
   "outputs": [
    {
     "data": {
      "text/plain": [
       "pandas.core.frame.DataFrame"
      ]
     },
     "execution_count": 14,
     "metadata": {},
     "output_type": "execute_result"
    }
   ],
   "source": [
    "type(incometable)"
   ]
  },
  {
   "cell_type": "code",
   "execution_count": 36,
   "metadata": {},
   "outputs": [],
   "source": [
    "income=incometable[['Number of families']]"
   ]
  },
  {
   "cell_type": "code",
   "execution_count": 37,
   "metadata": {},
   "outputs": [
    {
     "name": "stdout",
     "output_type": "stream",
     "text": [
      "  Number of families\n",
      "0               1941\n",
      "1               1212\n",
      "2               1816\n"
     ]
    }
   ],
   "source": [
    "print(income)"
   ]
  },
  {
   "cell_type": "code",
   "execution_count": 39,
   "metadata": {},
   "outputs": [
    {
     "name": "stdout",
     "output_type": "stream",
     "text": [
      "    Number of families\n",
      "0                 1941\n",
      "1                 1212\n",
      "2                 1816\n",
      "3                 2055\n",
      "4                 2753\n",
      "5                 2915\n",
      "6                 3242\n",
      "7                 3280\n",
      "8                 3055\n",
      "9                 2922\n",
      "10                3248\n",
      "11                2940\n",
      "12                2983\n",
      "13                2668\n",
      "14                2575\n",
      "15                2762\n",
      "16                2433\n",
      "17                2275\n",
      "18                2299\n",
      "19                2018\n",
      "20                2211\n",
      "21                1880\n",
      "22                1840\n",
      "23                1589\n",
      "24                1552\n",
      "25                1440\n",
      "26                1359\n",
      "27                1132\n",
      "28                1125\n",
      "29                1098\n",
      "30                1233\n",
      "31                 822\n",
      "32                 940\n",
      "33                 792\n",
      "34                 744\n",
      "35                 713\n",
      "36                 627\n",
      "37                 607\n",
      "38                 511\n",
      "39                 509\n"
     ]
    }
   ],
   "source": [
    "families=df[['Number of families']]\n",
    "print(families)"
   ]
  },
  {
   "cell_type": "code",
   "execution_count": 41,
   "metadata": {},
   "outputs": [
    {
     "name": "stdout",
     "output_type": "stream",
     "text": [
      "0    1941\n",
      "1    1212\n",
      "2    1816\n",
      "3    2055\n",
      "4    2753\n",
      "Name: Number of families, dtype: int64\n"
     ]
    }
   ],
   "source": [
    "families=df.iloc[0:5,1]\n",
    "print(families)"
   ]
  },
  {
   "cell_type": "code",
   "execution_count": 71,
   "metadata": {},
   "outputs": [
    {
     "data": {
      "image/png": "[encoded data removed]",
      "text/plain": [
       "<matplotlib.figure.Figure at 0x7f3e34756090>"
      ]
     },
     "metadata": {},
     "output_type": "display_data"
    }
   ],
   "source": [
    "# Lets plot a scatter of the income vs number of families\n",
    "import numpy as np\n",
    "np.random.seed(19680801)\n",
    "\n",
    "import matplotlib.pyplot as plt\n",
    "\n",
    "N=40\n",
    "c = np.random.randint(1, 5, size=N)\n",
    "s = np.random.randint(10, 220, size=N)\n",
    "\n",
    "plt.scatter(df.iloc[:,0],df.loc[:,'Number of families'],s=s,c=c)\n",
    "# set axes range\n",
    "plt.xlim(2500, 250000)\n",
    "plt.ylabel('Number of families')\n",
    "plt.xlabel('Annual income')\n",
    "plt.show()"
   ]
  },
  {
   "cell_type": "code",
   "execution_count": null,
   "metadata": {},
   "outputs": [],
   "source": []
  }
 ],
 "metadata": {
  "kernelspec": {
   "display_name": "Python 2",
   "language": "python",
   "name": "python2"
  },
  "language_info": {
   "codemirror_mode": {
    "name": "ipython",
    "version": 2
   },
   "file_extension": ".py",
   "mimetype": "text/x-python",
   "name": "python",
   "nbconvert_exporter": "python",
   "pygments_lexer": "ipython2",
   "version": "2.7.12"
  }
 },
 "nbformat": 4,
 "nbformat_minor": 2
}
