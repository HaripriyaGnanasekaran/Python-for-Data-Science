{
 "cells": [
  {
   "cell_type": "markdown",
   "metadata": {},
   "source": [
    "# Libraries and Dependencies in Python for Data science\n",
    "### Table of Contents"
   ]
  },
  {
   "cell_type": "markdown",
   "metadata": {},
   "source": [
    "<div style=\"background-color: #cfc ; padding: 10px; border: 1px solid green;\">\n",
    "\n",
    "   <li>Pandas</li>\n",
    "   <li>Numpy</li>"
   ]
  },
  {
   "cell_type": "markdown",
   "metadata": {},
   "source": [
    "#### Pandas"
   ]
  },
  {
   "cell_type": "markdown",
   "metadata": {},
   "source": [
    "Pandas is a name derived from 'Panel Datas' from the field of econometrics. Pandas is a python library with set of pre-bulit or pre-defined methods (classes,functions) that can be used to analyze datas. Assuming that the pandas library is installed, we will start from seeing how to import the library into your code."
   ]
  },
  {
   "cell_type": "code",
   "execution_count": 3,
   "metadata": {},
   "outputs": [],
   "source": [
    "# pandas can be imported as follows\n",
    "import pandas as pd"
   ]
  },
  {
   "cell_type": "markdown",
   "metadata": {},
   "source": [
    "In the above bit we used a command import to import the pandas library. The second bit, 'as pd' states that the imported pandas library can be referred using the object pd in the rest of the program. It is interesting to see what is the type of the object pd."
   ]
  },
  {
   "cell_type": "code",
   "execution_count": 4,
   "metadata": {},
   "outputs": [
    {
     "data": {
      "text/plain": [
       "module"
      ]
     },
     "execution_count": 4,
     "metadata": {},
     "output_type": "execute_result"
    }
   ],
   "source": [
    "type(pd)"
   ]
  },
  {
   "cell_type": "markdown",
   "metadata": {},
   "source": [
    "##### Guess you know it now. So that says pandas is an in-built python module."
   ]
  },
  {
   "cell_type": "markdown",
   "metadata": {},
   "source": [
    "It is usefult to know all the pre built functions and classes that are present within the pandas module. However, we will look at some important functions only."
   ]
  },
  {
   "cell_type": "markdown",
   "metadata": {},
   "source": [
    "#### Most importantly, pandas allows users to work with large data piles like Excel or csv data. Within pandas they are called dataframes.\n",
    "Let's see how we can load a data file as a data frame in pandas."
   ]
  },
  {
   "cell_type": "code",
   "execution_count": 9,
   "metadata": {},
   "outputs": [
    {
     "data": {
      "text/html": [
       "<div>\n",
       "<style scoped>\n",
       "    .dataframe tbody tr th:only-of-type {\n",
       "        vertical-align: middle;\n",
       "    }\n",
       "\n",
       "    .dataframe tbody tr th {\n",
       "        vertical-align: top;\n",
       "    }\n",
       "\n",
       "    .dataframe thead th {\n",
       "        text-align: right;\n",
       "    }\n",
       "</style>\n",
       "<table border=\"1\" class=\"dataframe\">\n",
       "  <thead>\n",
       "    <tr style=\"text-align: right;\">\n",
       "      <th></th>\n",
       "      <th>Table with row headers in column A and column headers in rows 8 through 9, 12 through 13, 19 through 20, 26 through 27, 36 through 37, 49 through 50, 65 through 66, 75 through 76, 85 through 86, and 99 through 100</th>\n",
       "      <th>Unnamed: 1</th>\n",
       "      <th>Unnamed: 2</th>\n",
       "      <th>Unnamed: 3</th>\n",
       "      <th>Unnamed: 4</th>\n",
       "      <th>Unnamed: 5</th>\n",
       "      <th>Unnamed: 6</th>\n",
       "      <th>Unnamed: 7</th>\n",
       "      <th>Unnamed: 8</th>\n",
       "      <th>Unnamed: 9</th>\n",
       "      <th>...</th>\n",
       "      <th>Unnamed: 41</th>\n",
       "      <th>Unnamed: 42</th>\n",
       "      <th>Unnamed: 43</th>\n",
       "      <th>Unnamed: 44</th>\n",
       "      <th>Unnamed: 45</th>\n",
       "      <th>Unnamed: 46</th>\n",
       "      <th>Unnamed: 47</th>\n",
       "      <th>Unnamed: 48</th>\n",
       "      <th>Unnamed: 49</th>\n",
       "      <th>Unnamed: 50</th>\n",
       "    </tr>\n",
       "  </thead>\n",
       "  <tbody>\n",
       "    <tr>\n",
       "      <th>0</th>\n",
       "      <td>All Races</td>\n",
       "      <td>NaN</td>\n",
       "      <td>NaN</td>\n",
       "      <td>NaN</td>\n",
       "      <td>NaN</td>\n",
       "      <td>NaN</td>\n",
       "      <td>NaN</td>\n",
       "      <td>NaN</td>\n",
       "      <td>NaN</td>\n",
       "      <td>NaN</td>\n",
       "      <td>...</td>\n",
       "      <td>NaN</td>\n",
       "      <td>NaN</td>\n",
       "      <td>NaN</td>\n",
       "      <td>NaN</td>\n",
       "      <td>NaN</td>\n",
       "      <td>NaN</td>\n",
       "      <td>NaN</td>\n",
       "      <td>NaN</td>\n",
       "      <td>NaN</td>\n",
       "      <td>NaN</td>\n",
       "    </tr>\n",
       "    <tr>\n",
       "      <th>1</th>\n",
       "      <td>Characteristic</td>\n",
       "      <td>Total</td>\n",
       "      <td>Under $5,000</td>\n",
       "      <td>$5,000 to  $9,999</td>\n",
       "      <td>$10,000 to $14,999</td>\n",
       "      <td>$15,000 to $19,999</td>\n",
       "      <td>$20,000 to $24,999</td>\n",
       "      <td>$25,000 to $29,999</td>\n",
       "      <td>$30,000 to $34,999</td>\n",
       "      <td>$35,000 to $39,999</td>\n",
       "      <td>...</td>\n",
       "      <td>$195,000 to $199,999</td>\n",
       "      <td>$200,000 and over</td>\n",
       "      <td>Median income</td>\n",
       "      <td>NaN</td>\n",
       "      <td>Mean income</td>\n",
       "      <td>NaN</td>\n",
       "      <td>Gini ratio</td>\n",
       "      <td>NaN</td>\n",
       "      <td>Income per\\nfamily member</td>\n",
       "      <td>NaN</td>\n",
       "    </tr>\n",
       "    <tr>\n",
       "      <th>2</th>\n",
       "      <td>NaN</td>\n",
       "      <td>NaN</td>\n",
       "      <td>NaN</td>\n",
       "      <td>NaN</td>\n",
       "      <td>NaN</td>\n",
       "      <td>NaN</td>\n",
       "      <td>NaN</td>\n",
       "      <td>NaN</td>\n",
       "      <td>NaN</td>\n",
       "      <td>NaN</td>\n",
       "      <td>...</td>\n",
       "      <td>NaN</td>\n",
       "      <td>NaN</td>\n",
       "      <td>Value\\n(Dol.)</td>\n",
       "      <td>Standard\\nerror (Dol.)</td>\n",
       "      <td>Value\\n(Dol.)</td>\n",
       "      <td>Standard\\nerror (Dol.)</td>\n",
       "      <td>Ratio</td>\n",
       "      <td>Standard\\nerror</td>\n",
       "      <td>Value\\n(Dol.)</td>\n",
       "      <td>Standard\\nerror</td>\n",
       "    </tr>\n",
       "    <tr>\n",
       "      <th>3</th>\n",
       "      <td>All Families</td>\n",
       "      <td>83508</td>\n",
       "      <td>1941</td>\n",
       "      <td>1212</td>\n",
       "      <td>1816</td>\n",
       "      <td>2055</td>\n",
       "      <td>2753</td>\n",
       "      <td>2915</td>\n",
       "      <td>3242</td>\n",
       "      <td>3280</td>\n",
       "      <td>...</td>\n",
       "      <td>509</td>\n",
       "      <td>9393</td>\n",
       "      <td>78646</td>\n",
       "      <td>518</td>\n",
       "      <td>106045</td>\n",
       "      <td>690</td>\n",
       "      <td>0.452</td>\n",
       "      <td>0.0024</td>\n",
       "      <td>33799</td>\n",
       "      <td>236</td>\n",
       "    </tr>\n",
       "    <tr>\n",
       "      <th>4</th>\n",
       "      <td>TYPE OF RESIDENCE</td>\n",
       "      <td>NaN</td>\n",
       "      <td>NaN</td>\n",
       "      <td>NaN</td>\n",
       "      <td>NaN</td>\n",
       "      <td>NaN</td>\n",
       "      <td>NaN</td>\n",
       "      <td>NaN</td>\n",
       "      <td>NaN</td>\n",
       "      <td>NaN</td>\n",
       "      <td>...</td>\n",
       "      <td>NaN</td>\n",
       "      <td>NaN</td>\n",
       "      <td>NaN</td>\n",
       "      <td>NaN</td>\n",
       "      <td>NaN</td>\n",
       "      <td>NaN</td>\n",
       "      <td>NaN</td>\n",
       "      <td>NaN</td>\n",
       "      <td>NaN</td>\n",
       "      <td>NaN</td>\n",
       "    </tr>\n",
       "  </tbody>\n",
       "</table>\n",
       "<p>5 rows × 51 columns</p>\n",
       "</div>"
      ],
      "text/plain": [
       "  Table with row headers in column A and column headers in rows 8 through 9, 12 through 13, 19 through 20, 26 through 27, 36 through 37, 49 through 50, 65 through 66, 75 through 76, 85 through 86, and 99 through 100  \\\n",
       "0                                          All Races                                                                                                                                                                      \n",
       "1                                     Characteristic                                                                                                                                                                      \n",
       "2                                                NaN                                                                                                                                                                      \n",
       "3                                       All Families                                                                                                                                                                      \n",
       "4                                  TYPE OF RESIDENCE                                                                                                                                                                      \n",
       "\n",
       "  Unnamed: 1    Unnamed: 2         Unnamed: 3          Unnamed: 4  \\\n",
       "0        NaN           NaN                NaN                 NaN   \n",
       "1      Total  Under $5,000  $5,000 to  $9,999  $10,000 to $14,999   \n",
       "2        NaN           NaN                NaN                 NaN   \n",
       "3      83508          1941               1212                1816   \n",
       "4        NaN           NaN                NaN                 NaN   \n",
       "\n",
       "           Unnamed: 5          Unnamed: 6          Unnamed: 7  \\\n",
       "0                 NaN                 NaN                 NaN   \n",
       "1  $15,000 to $19,999  $20,000 to $24,999  $25,000 to $29,999   \n",
       "2                 NaN                 NaN                 NaN   \n",
       "3                2055                2753                2915   \n",
       "4                 NaN                 NaN                 NaN   \n",
       "\n",
       "           Unnamed: 8          Unnamed: 9       ...         \\\n",
       "0                 NaN                 NaN       ...          \n",
       "1  $30,000 to $34,999  $35,000 to $39,999       ...          \n",
       "2                 NaN                 NaN       ...          \n",
       "3                3242                3280       ...          \n",
       "4                 NaN                 NaN       ...          \n",
       "\n",
       "            Unnamed: 41        Unnamed: 42    Unnamed: 43  \\\n",
       "0                   NaN                NaN            NaN   \n",
       "1  $195,000 to $199,999  $200,000 and over  Median income   \n",
       "2                   NaN                NaN  Value\\n(Dol.)   \n",
       "3                   509               9393          78646   \n",
       "4                   NaN                NaN            NaN   \n",
       "\n",
       "              Unnamed: 44    Unnamed: 45             Unnamed: 46 Unnamed: 47  \\\n",
       "0                     NaN            NaN                     NaN         NaN   \n",
       "1                     NaN    Mean income                     NaN  Gini ratio   \n",
       "2  Standard\\nerror (Dol.)  Value\\n(Dol.)  Standard\\nerror (Dol.)       Ratio   \n",
       "3                     518         106045                     690       0.452   \n",
       "4                     NaN            NaN                     NaN         NaN   \n",
       "\n",
       "       Unnamed: 48                Unnamed: 49      Unnamed: 50  \n",
       "0              NaN                        NaN              NaN  \n",
       "1              NaN  Income per\\nfamily member              NaN  \n",
       "2  Standard\\nerror              Value\\n(Dol.)  Standard\\nerror  \n",
       "3           0.0024                      33799              236  \n",
       "4              NaN                        NaN              NaN  \n",
       "\n",
       "[5 rows x 51 columns]"
      ]
     },
     "execution_count": 9,
     "metadata": {},
     "output_type": "execute_result"
    }
   ],
   "source": [
    "df = pd.read_excel('./data_files/income_data.xlsx')\n",
    "df.head()"
   ]
  },
  {
   "cell_type": "code",
   "execution_count": null,
   "metadata": {},
   "outputs": [],
   "source": []
  }
 ],
 "metadata": {
  "kernelspec": {
   "display_name": "Python 2",
   "language": "python",
   "name": "python2"
  },
  "language_info": {
   "codemirror_mode": {
    "name": "ipython",
    "version": 2
   },
   "file_extension": ".py",
   "mimetype": "text/x-python",
   "name": "python",
   "nbconvert_exporter": "python",
   "pygments_lexer": "ipython2",
   "version": "2.7.12"
  }
 },
 "nbformat": 4,
 "nbformat_minor": 2
}
