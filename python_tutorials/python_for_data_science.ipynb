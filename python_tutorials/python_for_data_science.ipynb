{
 "cells": [
  {
   "cell_type": "markdown",
   "metadata": {},
   "source": [
    "# Python for DATA SCIENCE  \n",
    "### Table of Contents"
   ]
  },
  {
   "cell_type": "markdown",
   "metadata": {},
   "source": [
    "<div style=\"background-color: #cfc ; padding: 10px; border: 1px solid green;\">\n",
    "\n",
    "   <li>Python Basics</li>\n",
    "   <li>Data Types</li>\n",
    "   <li>Type casting</li>\n",
    "   <li>Expressions and variables</li>\n",
    "   <li>Version check</li>\n",
    "   <li>String manipulations</li>\n",
    "    "
   ]
  },
  {
   "cell_type": "markdown",
   "metadata": {},
   "source": [
    "<div style=\"background-color: #cfc ; padding: 10px; border: 1px solid green;\">\n",
    "#### Module 1 - Python Basics  \n",
    "\n",
    "____\n",
    "##### Data types in Python. \n",
    "1. Integers  (-2^32 to 2^32)\n",
    "2. Floats  (0.0000 formats)\n",
    "3. Strings  (characters and words)\n",
    "4. Boolean (True or False; 1 or 0);\n",
    "___\n",
    "Command to get the type of a variable using python is type(variable_name)\n",
    "\n",
    "type(100)"
   ]
  },
  {
   "cell_type": "code",
   "execution_count": 8,
   "metadata": {},
   "outputs": [],
   "source": [
    "y=100; x=100.23; name='typedefinitions';"
   ]
  },
  {
   "cell_type": "code",
   "execution_count": 15,
   "metadata": {},
   "outputs": [
    {
     "name": "stdout",
     "output_type": "stream",
     "text": [
      "<type 'int'>\n",
      "<type 'float'>\n",
      "<type 'str'>\n",
      "<type 'bool'>\n"
     ]
    }
   ],
   "source": [
    "print(type(y)); print(type(x)); print(type(name)); print(type(True))"
   ]
  },
  {
   "cell_type": "markdown",
   "metadata": {},
   "source": [
    "<div style=\"background-color: #cfc ; padding: 10px; border: 1px solid green;\">\n",
    "##### Type casting in Python  \n",
    "You can convert a variable of one type to another in Python"
   ]
  },
  {
   "cell_type": "code",
   "execution_count": 14,
   "metadata": {},
   "outputs": [
    {
     "name": "stdout",
     "output_type": "stream",
     "text": [
      "123\n",
      "56.234\n",
      "234\n"
     ]
    }
   ],
   "source": [
    "print(str(123)); print(float('56.234')); print(int('234'))"
   ]
  },
  {
   "cell_type": "markdown",
   "metadata": {},
   "source": [
    "<div style=\"background-color: #cfc ; padding: 10px; border: 1px solid green;\">\n",
    "##### Expressions and variables  \n",
    "Expressions are type of operations a computer can perform like addition, division etc (numbers are operands and signs are operations.)  \n",
    "1. Addition -- +\n",
    "2. Subraction -- -\n",
    "3. Division -- / (normal division) // (integer division)\n",
    "4. Multiplication -- *  \n",
    "___\n",
    "Variables can be assigned to store a value or string. Which can be accessed later and modified.  \n",
    "Assignment is made by assignment operator (=)"
   ]
  },
  {
   "cell_type": "code",
   "execution_count": 16,
   "metadata": {},
   "outputs": [],
   "source": [
    "my_variable = 10\n",
    "my_variable_2 = 10.5\n",
    "add = my_variable + my_variable_2\n",
    "sub = my_variable - my_variable_2\n",
    "divide = my_variable/my_variable_2\n",
    "dividi =my_variable//my_variable_2\n",
    "mult = my_variable*my_variable_2\n",
    "po = my_variable_2**my_variable"
   ]
  },
  {
   "cell_type": "code",
   "execution_count": 17,
   "metadata": {},
   "outputs": [
    {
     "name": "stdout",
     "output_type": "stream",
     "text": [
      "(20.5, -0.5, 0.9523809523809523, 0.0, 105.0, 16288946267.774414)\n"
     ]
    }
   ],
   "source": [
    "print(add,sub,divide,dividi,mult,po)"
   ]
  },
  {
   "cell_type": "markdown",
   "metadata": {},
   "source": [
    "<div style=\"background-color: #cfc ; padding: 10px; border: 1px solid green;\">\n",
    "##### Finally lets check the version of the Python we are running.  \n",
    "This can be done by importing the sys using command <code> import sys </code> and then printing the sys version as <code> print(sys.version) </code>"
   ]
  },
  {
   "cell_type": "code",
   "execution_count": 18,
   "metadata": {},
   "outputs": [
    {
     "name": "stdout",
     "output_type": "stream",
     "text": [
      "2.7.12 (default, Oct  8 2019, 14:14:10) \n",
      "[GCC 5.4.0 20160609]\n"
     ]
    }
   ],
   "source": [
    "import sys\n",
    "print(sys.version)"
   ]
  },
  {
   "cell_type": "markdown",
   "metadata": {},
   "source": [
    "<div style=\"background-color: #cfc ; padding: 10px; border: 1px solid green;\">\n",
    "##### String Manipulations.  \n",
    "  \n",
    "   String maniputations are must have skills for a data scientist.  \n",
    "   Often times, a data scientist receives a table or data with lots of unstructured content. Data preparation involves conversion of these texts into more structured and readable data for the model. This is where the skills of string manipulations become crucial. Here we go with some basics.\n",
    "    \n",
    "\n"
   ]
  },
  {
   "cell_type": "markdown",
   "metadata": {},
   "source": [
    "Example of some ways of representing strings. "
   ]
  },
  {
   "cell_type": "code",
   "execution_count": 5,
   "metadata": {},
   "outputs": [
    {
     "name": "stdout",
     "output_type": "stream",
     "text": [
      "Output of the above program:\n",
      "My name is Ram.\n",
      "My name is Ram.\n",
      "My name is Ram & And I play badminton.\n",
      "I like special characters like *&^%$#@##$%^&%$&^ \n",
      "they make text look funny \\ and wierd.\n"
     ]
    }
   ],
   "source": [
    "s_one = \"My name is Ram.\"\n",
    "s_two = 'My name is Ram.'\n",
    "s_thr = 'My name is Ram & And I play badminton.'\n",
    "s_fou = 'I like special characters like *&^%$#@##$%^&%$&^ \\nthey make text look funny \\\\ and wierd.'\n",
    "print('Output of the above program:')\n",
    "print(s_one)\n",
    "print(s_two)\n",
    "print(s_thr)\n",
    "print(s_fou)\n"
   ]
  },
  {
   "cell_type": "markdown",
   "metadata": {},
   "source": [
    "___"
   ]
  },
  {
   "cell_type": "markdown",
   "metadata": {},
   "source": [
    "How are the strings indexed."
   ]
  },
  {
   "cell_type": "code",
   "execution_count": 9,
   "metadata": {},
   "outputs": [
    {
     "name": "stdout",
     "output_type": "stream",
     "text": [
      "R\n"
     ]
    }
   ],
   "source": [
    "print(s_one[11])"
   ]
  },
  {
   "cell_type": "markdown",
   "metadata": {},
   "source": [
    "R is the 11 th character of the string s_one when indexed from 0 at start"
   ]
  },
  {
   "cell_type": "code",
   "execution_count": 10,
   "metadata": {},
   "outputs": [
    {
     "name": "stdout",
     "output_type": "stream",
     "text": [
      "R\n"
     ]
    }
   ],
   "source": [
    "print(s_two[-4])"
   ]
  },
  {
   "cell_type": "markdown",
   "metadata": {},
   "source": [
    "negatively indexed from -1, R is the -4 th string of s_two"
   ]
  },
  {
   "cell_type": "code",
   "execution_count": null,
   "metadata": {},
   "outputs": [],
   "source": []
  }
 ],
 "metadata": {
  "kernelspec": {
   "display_name": "Python 2",
   "language": "python",
   "name": "python2"
  },
  "language_info": {
   "codemirror_mode": {
    "name": "ipython",
    "version": 2
   },
   "file_extension": ".py",
   "mimetype": "text/x-python",
   "name": "python",
   "nbconvert_exporter": "python",
   "pygments_lexer": "ipython2",
   "version": "2.7.12"
  }
 },
 "nbformat": 4,
 "nbformat_minor": 2
}
