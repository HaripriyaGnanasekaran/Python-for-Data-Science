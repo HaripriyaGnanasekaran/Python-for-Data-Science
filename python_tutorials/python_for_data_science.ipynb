{
 "cells": [
  {
   "cell_type": "markdown",
   "metadata": {},
   "source": [
    "# Python for DATA SCIENCE  \n",
    "### Table of Contents"
   ]
  },
  {
   "cell_type": "markdown",
   "metadata": {},
   "source": [
    "<div style=\"background-color: #cfc ; padding: 10px; border: 1px solid green;\">\n",
    "\n",
    "   <li>Python Basics</li>\n",
    "   <li>Data Types</li>\n",
    "   <li>Type casting</li>\n",
    "   <li>Expressions and variables</li>\n",
    "   <li>Version check</li>\n",
    "   <li>String manipulations</li>\n",
    "    "
   ]
  },
  {
   "cell_type": "markdown",
   "metadata": {},
   "source": [
    "<div style=\"background-color: #cfc ; padding: 10px; border: 1px solid green;\">\n",
    "#### Module 1 - Python Basics  \n",
    "\n",
    "____\n",
    "##### Data types in Python. \n",
    "1. Integers  (-2^32 to 2^32)\n",
    "2. Floats  (0.0000 formats)\n",
    "3. Strings  (characters and words)\n",
    "4. Boolean (True or False; 1 or 0);\n",
    "___\n",
    "Command to get the type of a variable using python is type(variable_name)\n",
    "\n",
    "type(100)"
   ]
  },
  {
   "cell_type": "code",
   "execution_count": 8,
   "metadata": {},
   "outputs": [],
   "source": [
    "y=100; x=100.23; name='typedefinitions';"
   ]
  },
  {
   "cell_type": "code",
   "execution_count": 15,
   "metadata": {},
   "outputs": [
    {
     "name": "stdout",
     "output_type": "stream",
     "text": [
      "<type 'int'>\n",
      "<type 'float'>\n",
      "<type 'str'>\n",
      "<type 'bool'>\n"
     ]
    }
   ],
   "source": [
    "print(type(y)); print(type(x)); print(type(name)); print(type(True))"
   ]
  },
  {
   "cell_type": "markdown",
   "metadata": {},
   "source": [
    "<div style=\"background-color: #cfc ; padding: 10px; border: 1px solid green;\">\n",
    "##### Type casting in Python  \n",
    "You can convert a variable of one type to another in Python"
   ]
  },
  {
   "cell_type": "code",
   "execution_count": 14,
   "metadata": {},
   "outputs": [
    {
     "name": "stdout",
     "output_type": "stream",
     "text": [
      "123\n",
      "56.234\n",
      "234\n"
     ]
    }
   ],
   "source": [
    "print(str(123)); print(float('56.234')); print(int('234'))"
   ]
  },
  {
   "cell_type": "markdown",
   "metadata": {},
   "source": [
    "<div style=\"background-color: #cfc ; padding: 10px; border: 1px solid green;\">\n",
    "##### Expressions and variables  \n",
    "Expressions are type of operations a computer can perform like addition, division etc (numbers are operands and signs are operations.)  \n",
    "1. Addition -- +\n",
    "2. Subraction -- -\n",
    "3. Division -- / (normal division) // (integer division)\n",
    "4. Multiplication -- *  \n",
    "___\n",
    "Variables can be assigned to store a value or string. Which can be accessed later and modified.  \n",
    "Assignment is made by assignment operator (=)"
   ]
  },
  {
   "cell_type": "code",
   "execution_count": 16,
   "metadata": {},
   "outputs": [],
   "source": [
    "my_variable = 10\n",
    "my_variable_2 = 10.5\n",
    "add = my_variable + my_variable_2\n",
    "sub = my_variable - my_variable_2\n",
    "divide = my_variable/my_variable_2\n",
    "dividi =my_variable//my_variable_2\n",
    "mult = my_variable*my_variable_2\n",
    "po = my_variable_2**my_variable"
   ]
  },
  {
   "cell_type": "code",
   "execution_count": 17,
   "metadata": {},
   "outputs": [
    {
     "name": "stdout",
     "output_type": "stream",
     "text": [
      "(20.5, -0.5, 0.9523809523809523, 0.0, 105.0, 16288946267.774414)\n"
     ]
    }
   ],
   "source": [
    "print(add,sub,divide,dividi,mult,po)"
   ]
  },
  {
   "cell_type": "markdown",
   "metadata": {},
   "source": [
    "<div style=\"background-color: #cfc ; padding: 10px; border: 1px solid green;\">\n",
    "##### Finally lets check the version of the Python we are running.  \n",
    "This can be done by importing the sys using command <code> import sys </code> and then printing the sys version as <code> print(sys.version) </code>"
   ]
  },
  {
   "cell_type": "code",
   "execution_count": 18,
   "metadata": {},
   "outputs": [
    {
     "name": "stdout",
     "output_type": "stream",
     "text": [
      "2.7.12 (default, Oct  8 2019, 14:14:10) \n",
      "[GCC 5.4.0 20160609]\n"
     ]
    }
   ],
   "source": [
    "import sys\n",
    "print(sys.version)"
   ]
  },
  {
   "cell_type": "markdown",
   "metadata": {},
   "source": [
    "<div style=\"background-color: #cfc ; padding: 10px; border: 1px solid green;\">\n",
    "##### String Manipulations.  \n",
    "  \n",
    "   String maniputations are must have skills for a data scientist.  \n",
    "   Often times, a data scientist receives a table or data with lots of unstructured content. Data preparation involves conversion of these texts into more structured and readable data for the model. This is where the skills of string manipulations become crucial. Here we go with some basics.\n",
    "    \n",
    "\n"
   ]
  },
  {
   "cell_type": "markdown",
   "metadata": {},
   "source": [
    "Example of some ways of representing strings. "
   ]
  },
  {
   "cell_type": "code",
   "execution_count": 2,
   "metadata": {},
   "outputs": [
    {
     "name": "stdout",
     "output_type": "stream",
     "text": [
      "Output of the above program:\n",
      "My name is Ram.\n",
      "My name is Ram.\n",
      "My name is Ram & And I play badminton.\n",
      "I like special characters like *&^%$#@##$%^&%$&^ \n",
      "they make text look funny \\ and wierd.\n"
     ]
    }
   ],
   "source": [
    "s_one = \"My name is Ram.\"\n",
    "s_two = 'My name is Ram.'\n",
    "s_thr = 'My name is Ram & And I play badminton.'\n",
    "s_fou = 'I like special characters like *&^%$#@##$%^&%$&^ \\nthey make text look funny \\\\ and wierd.'\n",
    "print('Output of the above program:')\n",
    "print(s_one)\n",
    "print(s_two)\n",
    "print(s_thr)\n",
    "print(s_fou)\n"
   ]
  },
  {
   "cell_type": "markdown",
   "metadata": {},
   "source": [
    "___"
   ]
  },
  {
   "cell_type": "markdown",
   "metadata": {},
   "source": [
    "How are the strings indexed."
   ]
  },
  {
   "cell_type": "code",
   "execution_count": 3,
   "metadata": {},
   "outputs": [
    {
     "name": "stdout",
     "output_type": "stream",
     "text": [
      "R\n"
     ]
    }
   ],
   "source": [
    "print(s_one[11])"
   ]
  },
  {
   "cell_type": "markdown",
   "metadata": {},
   "source": [
    "R is the 11 th character of the string s_one when indexed from 0 at start"
   ]
  },
  {
   "cell_type": "code",
   "execution_count": 4,
   "metadata": {},
   "outputs": [
    {
     "name": "stdout",
     "output_type": "stream",
     "text": [
      "R\n"
     ]
    }
   ],
   "source": [
    "print(s_two[-4])"
   ]
  },
  {
   "cell_type": "markdown",
   "metadata": {},
   "source": [
    "negatively indexed from -1, R is the -4 th string of s_two"
   ]
  },
  {
   "cell_type": "markdown",
   "metadata": {},
   "source": [
    "##### Slicing of strings\n",
    "A string can be sliced into its sub parts by placing using its index as follows"
   ]
  },
  {
   "cell_type": "code",
   "execution_count": 5,
   "metadata": {},
   "outputs": [
    {
     "data": {
      "text/plain": [
       "'My name is '"
      ]
     },
     "execution_count": 5,
     "metadata": {},
     "output_type": "execute_result"
    }
   ],
   "source": [
    "s_one[0:11]"
   ]
  },
  {
   "cell_type": "code",
   "execution_count": 6,
   "metadata": {},
   "outputs": [
    {
     "data": {
      "text/plain": [
       "'Ram.'"
      ]
     },
     "execution_count": 6,
     "metadata": {},
     "output_type": "execute_result"
    }
   ],
   "source": [
    "s_one[11:]"
   ]
  },
  {
   "cell_type": "code",
   "execution_count": 7,
   "metadata": {},
   "outputs": [
    {
     "data": {
      "text/plain": [
       "'My name is Ram.'"
      ]
     },
     "execution_count": 7,
     "metadata": {},
     "output_type": "execute_result"
    }
   ],
   "source": [
    "s_one[0:11]+s_two[11:]"
   ]
  },
  {
   "cell_type": "markdown",
   "metadata": {},
   "source": [
    "<div style=\"background-color: #cfc ; padding: 10px; border: 1px solid green;\">\n",
    "##### File operations.  \n",
    "Reading a file in python\n"
   ]
  },
  {
   "cell_type": "markdown",
   "metadata": {},
   "source": [
    "<code>file_pointer=open(\"./folder/subfolder/filname.extension\",\"r\")</code>  \n",
    "<code>file_pointer.name</code> # the name attribute dispalys the filename.   \n",
    "<code>file_pointer.mode</code> # displays the mode of the object opened. In this case 'r' denotes read mode.  \n",
    "<code>file_pointer.read()</code> # now we have performed a method called read on the object to read the contents.  \n",
    "<code>file_pointer.close()</code> # this method closes the opened object."
   ]
  },
  {
   "cell_type": "markdown",
   "metadata": {},
   "source": [
    "By using a <code>with</code> statement will automatically close the opened file after operations are performed."
   ]
  },
  {
   "cell_type": "markdown",
   "metadata": {},
   "source": [
    "<code> with open(\"./file.txt\", \"r\") as fp:</code>  \n",
    "        <p style=\"margin-left: 40px\"><code>contents=fp.read()</code></p> \n",
    "        <p style=\"margin-left: 40px\"><code>print(contents)</code></p>\n",
    "        "
   ]
  },
  {
   "cell_type": "markdown",
   "metadata": {},
   "source": [
    "<code>content=fp.readlines()</code> will allows to read every line as an element of the list content.  \n",
    "<code>content=fp.readline()</code> will allows to read 1 line as an element of the list content. Next time it reads the second and third line consequtively corresponding to the number of time it is called."
   ]
  },
  {
   "cell_type": "code",
   "execution_count": 24,
   "metadata": {},
   "outputs": [
    {
     "name": "stdout",
     "output_type": "stream",
     "text": [
      "--2020-02-15 11:06:20--  https://s3-api.us-geo.objectstorage.softlayer.net/cf-courses-data/CognitiveClass/PY0101EN/labs/example1.txt\n",
      "Resolving s3-api.us-geo.objectstorage.softlayer.net (s3-api.us-geo.objectstorage.softlayer.net)... 67.228.254.196\n",
      "Connecting to s3-api.us-geo.objectstorage.softlayer.net (s3-api.us-geo.objectstorage.softlayer.net)|67.228.254.196|:443... connected.\n",
      "HTTP request sent, awaiting response... 200 OK\n",
      "Length: 45 [text/plain]\n",
      "Saving to: ‘./final.txt’\n",
      "\n",
      "./final.txt         100%[===================>]      45  --.-KB/s    in 0s      \n",
      "\n",
      "2020-02-15 11:06:20 (8,88 MB/s) - ‘./final.txt’ saved [45/45]\n",
      "\n"
     ]
    }
   ],
   "source": [
    "# example to download a file\n",
    "\n",
    "!wget -O ./final.txt https://s3-api.us-geo.objectstorage.softlayer.net/cf-courses-data/CognitiveClass/PY0101EN/labs/example1.txt"
   ]
  },
  {
   "cell_type": "code",
   "execution_count": 25,
   "metadata": {},
   "outputs": [
    {
     "data": {
      "text/plain": [
       "'This is line 1 \\nThis is line 2\\nThis is line 3'"
      ]
     },
     "execution_count": 25,
     "metadata": {},
     "output_type": "execute_result"
    }
   ],
   "source": [
    "# Lets read this file\n",
    "content=open(\"./final.txt\",\"r\")\n",
    "content.name\n",
    "content.mode\n",
    "readdata = content.read()\n",
    "readdata"
   ]
  },
  {
   "cell_type": "code",
   "execution_count": 26,
   "metadata": {},
   "outputs": [
    {
     "name": "stdout",
     "output_type": "stream",
     "text": [
      "This is line 1 \n",
      "This is line 2\n",
      "This is line 3\n"
     ]
    }
   ],
   "source": [
    "# print the readdata\n",
    "print(readdata)"
   ]
  },
  {
   "cell_type": "code",
   "execution_count": 27,
   "metadata": {},
   "outputs": [
    {
     "data": {
      "text/plain": [
       "str"
      ]
     },
     "execution_count": 27,
     "metadata": {},
     "output_type": "execute_result"
    }
   ],
   "source": [
    "# check type\n",
    "type(readdata)"
   ]
  },
  {
   "cell_type": "code",
   "execution_count": 28,
   "metadata": {},
   "outputs": [],
   "source": [
    "# close file after finish\n",
    "content.close()"
   ]
  },
  {
   "cell_type": "code",
   "execution_count": 40,
   "metadata": {},
   "outputs": [
    {
     "name": "stdout",
     "output_type": "stream",
     "text": [
      "This is line 1 \n",
      "This is line 2\n",
      "This is line 3\n"
     ]
    }
   ],
   "source": [
    "# A better way to open a file is to use the with as stated before\n",
    "\n",
    "with open('./final.txt','r') as fp: # can also be single quotes to specify attributes.\n",
    "    filecontent=fp.read()\n",
    "    print(filecontent)"
   ]
  },
  {
   "cell_type": "code",
   "execution_count": 37,
   "metadata": {},
   "outputs": [
    {
     "data": {
      "text/plain": [
       "True"
      ]
     },
     "execution_count": 37,
     "metadata": {},
     "output_type": "execute_result"
    }
   ],
   "source": [
    "fp.closed"
   ]
  },
  {
   "cell_type": "code",
   "execution_count": 38,
   "metadata": {},
   "outputs": [
    {
     "name": "stdout",
     "output_type": "stream",
     "text": [
      "This is line 1 \n",
      "This is line 2\n",
      "This is line 3\n"
     ]
    }
   ],
   "source": [
    "print(filecontent)"
   ]
  },
  {
   "cell_type": "markdown",
   "metadata": {},
   "source": [
    "When can also read the contents by specifying how many characters should be read every instant by passing an argument to the method <code>read(arg)</code>"
   ]
  },
  {
   "cell_type": "code",
   "execution_count": 41,
   "metadata": {},
   "outputs": [
    {
     "name": "stdout",
     "output_type": "stream",
     "text": [
      "This\n",
      " is \n",
      "line\n",
      " 1 \n",
      "\n",
      "This\n",
      " is \n",
      "line\n",
      " 2\n",
      "T\n",
      "his \n",
      "is l\n"
     ]
    }
   ],
   "source": [
    "#example.\n",
    "with open('./final.txt','r') as fpnew:\n",
    "    for i in range(0,10):\n",
    "        content=fpnew.read(4)\n",
    "        print(content)\n"
   ]
  },
  {
   "cell_type": "code",
   "execution_count": 58,
   "metadata": {},
   "outputs": [
    {
     "name": "stdout",
     "output_type": "stream",
     "text": [
      "('Iteration', '1', ': ', 'This is line 1 \\n')\n",
      "('Iteration', '2', ': ', 'This is line 2\\n')\n",
      "('Iteration', '3', ': ', 'This is line 3')\n"
     ]
    }
   ],
   "source": [
    "# we can also read one line at a time.\n",
    "with open('./final.txt','r') as fpnew:\n",
    "    i=0;\n",
    "    for line in fpnew:\n",
    "        print(\"Iteration\", str(i+1), \": \", line)\n",
    "        i=i+1;"
   ]
  },
  {
   "cell_type": "code",
   "execution_count": 67,
   "metadata": {},
   "outputs": [
    {
     "name": "stdout",
     "output_type": "stream",
     "text": [
      "This is line 1 \n",
      "\n",
      "This is line 2\n",
      "\n"
     ]
    }
   ],
   "source": [
    "with open('./final.txt','r') as fpnew:\n",
    "    listread=fpnew.readlines()\n",
    "print(listread[0])\n",
    "print(listread[1])"
   ]
  },
  {
   "cell_type": "code",
   "execution_count": 62,
   "metadata": {},
   "outputs": [
    {
     "data": {
      "text/plain": [
       "file"
      ]
     },
     "execution_count": 62,
     "metadata": {},
     "output_type": "execute_result"
    }
   ],
   "source": [
    "type(fpnew)"
   ]
  },
  {
   "cell_type": "code",
   "execution_count": 69,
   "metadata": {},
   "outputs": [
    {
     "name": "stdout",
     "output_type": "stream",
     "text": [
      "This is line 1 \n",
      "\n",
      "This is line 2\n",
      "\n",
      "This is line 3\n"
     ]
    }
   ],
   "source": [
    "# you can also directly loop over the file object in python. safer as it will not exceed index limitations.\n",
    "with open('./final.txt','r') as fpnew:\n",
    "    for line in fpnew:\n",
    "        print(line)"
   ]
  },
  {
   "cell_type": "markdown",
   "metadata": {},
   "source": [
    "##### Isn't this cool! "
   ]
  },
  {
   "cell_type": "markdown",
   "metadata": {},
   "source": [
    "#### Now let's do some writing. It is same as reading except we use a different mode to perform write method"
   ]
  },
  {
   "cell_type": "code",
   "execution_count": 70,
   "metadata": {},
   "outputs": [],
   "source": [
    "with open('./final.txt','r') as fpr:\n",
    "    content=fpr.readlines()\n",
    "    with open('./write.txt','w') as fpw:\n",
    "        for line in content:\n",
    "            fpw.write(line)\n",
    "            "
   ]
  },
  {
   "cell_type": "code",
   "execution_count": 71,
   "metadata": {},
   "outputs": [],
   "source": [
    "# just figured out the above bit can be made even simpler like\n",
    "with open('./final.txt','r') as fpr:\n",
    "    with open('./writer.txt','w') as fpw:\n",
    "        for line in fpr:\n",
    "            fpw.write(line)"
   ]
  },
  {
   "cell_type": "markdown",
   "metadata": {},
   "source": [
    "##### These operations are rather crucial when comes to data handling of huge files. Automates the job of manual data cleaning to a several extent. Note, Data cleaning and preparation is the most time consuming bit in Data Science."
   ]
  },
  {
   "cell_type": "code",
   "execution_count": null,
   "metadata": {},
   "outputs": [],
   "source": []
  }
 ],
 "metadata": {
  "kernelspec": {
   "display_name": "Python 2",
   "language": "python",
   "name": "python2"
  },
  "language_info": {
   "codemirror_mode": {
    "name": "ipython",
    "version": 2
   },
   "file_extension": ".py",
   "mimetype": "text/x-python",
   "name": "python",
   "nbconvert_exporter": "python",
   "pygments_lexer": "ipython2",
   "version": "2.7.12"
  }
 },
 "nbformat": 4,
 "nbformat_minor": 2
}
